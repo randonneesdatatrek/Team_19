{
 "cells": [
  {
   "cell_type": "markdown",
   "metadata": {},
   "source": [
    "Resource: https://ouvert.canada.ca/data/fr/dataset/01754a88-4ea3-42dd-9683-99beb7556b9f"
   ]
  },
  {
   "cell_type": "code",
   "execution_count": 1,
   "metadata": {},
   "outputs": [],
   "source": [
    "import pandas as pd"
   ]
  },
  {
   "cell_type": "code",
   "execution_count": 2,
   "metadata": {},
   "outputs": [],
   "source": [
    "loc_emplo = '/Users/apple/100days/Practice/14100092-eng/14100092.csv'"
   ]
  },
  {
   "cell_type": "code",
   "execution_count": 3,
   "metadata": {},
   "outputs": [
    {
     "name": "stdout",
     "output_type": "stream",
     "text": [
      "<class 'pandas.core.frame.DataFrame'>\n"
     ]
    }
   ],
   "source": [
    "emplo_obj = pd.read_csv(loc_emplo)\n",
    "print(type(emplo_obj))"
   ]
  },
  {
   "cell_type": "code",
   "execution_count": 4,
   "metadata": {},
   "outputs": [
    {
     "data": {
      "text/plain": [
       "(28880, 15)"
      ]
     },
     "execution_count": 4,
     "metadata": {},
     "output_type": "execute_result"
    }
   ],
   "source": [
    "emplo_obj.shape"
   ]
  },
  {
   "cell_type": "code",
   "execution_count": 5,
   "metadata": {},
   "outputs": [
    {
     "data": {
      "text/plain": [
       "Index(['REF_DATE', 'GEO', 'DGUID',\n",
       "       'North American Industry Classification System (NAICS)', 'UOM',\n",
       "       'UOM_ID', 'SCALAR_FACTOR', 'SCALAR_ID', 'VECTOR', 'COORDINATE', 'VALUE',\n",
       "       'STATUS', 'SYMBOL', 'TERMINATED', 'DECIMALS'],\n",
       "      dtype='object')"
      ]
     },
     "execution_count": 5,
     "metadata": {},
     "output_type": "execute_result"
    }
   ],
   "source": [
    "emplo_obj.columns"
   ]
  },
  {
   "cell_type": "code",
   "execution_count": 6,
   "metadata": {},
   "outputs": [
    {
     "data": {
      "text/plain": [
       "REF_DATE                                                   int64\n",
       "GEO                                                       object\n",
       "DGUID                                                     object\n",
       "North American Industry Classification System (NAICS)     object\n",
       "UOM                                                       object\n",
       "UOM_ID                                                     int64\n",
       "SCALAR_FACTOR                                             object\n",
       "SCALAR_ID                                                  int64\n",
       "VECTOR                                                    object\n",
       "COORDINATE                                               float64\n",
       "VALUE                                                    float64\n",
       "STATUS                                                    object\n",
       "SYMBOL                                                   float64\n",
       "TERMINATED                                               float64\n",
       "DECIMALS                                                   int64\n",
       "dtype: object"
      ]
     },
     "execution_count": 6,
     "metadata": {},
     "output_type": "execute_result"
    }
   ],
   "source": [
    "emplo_obj.dtypes"
   ]
  },
  {
   "cell_type": "code",
   "execution_count": 7,
   "metadata": {},
   "outputs": [
    {
     "data": {
      "text/plain": [
       "REF_DATE                                                     0\n",
       "GEO                                                          0\n",
       "DGUID                                                     2660\n",
       "North American Industry Classification System (NAICS)        0\n",
       "UOM                                                          0\n",
       "UOM_ID                                                       0\n",
       "SCALAR_FACTOR                                                0\n",
       "SCALAR_ID                                                    0\n",
       "VECTOR                                                       0\n",
       "COORDINATE                                                   0\n",
       "VALUE                                                     1443\n",
       "STATUS                                                   27437\n",
       "SYMBOL                                                   28880\n",
       "TERMINATED                                               28880\n",
       "DECIMALS                                                     0\n",
       "dtype: int64"
      ]
     },
     "execution_count": 7,
     "metadata": {},
     "output_type": "execute_result"
    }
   ],
   "source": [
    "emplo_obj.isnull().sum()"
   ]
  },
  {
   "cell_type": "code",
   "execution_count": null,
   "metadata": {},
   "outputs": [],
   "source": []
  }
 ],
 "metadata": {
  "kernelspec": {
   "display_name": "Python 3",
   "language": "python",
   "name": "python3"
  },
  "language_info": {
   "codemirror_mode": {
    "name": "ipython",
    "version": 3
   },
   "file_extension": ".py",
   "mimetype": "text/x-python",
   "name": "python",
   "nbconvert_exporter": "python",
   "pygments_lexer": "ipython3",
   "version": "3.8.5"
  }
 },
 "nbformat": 4,
 "nbformat_minor": 4
}
